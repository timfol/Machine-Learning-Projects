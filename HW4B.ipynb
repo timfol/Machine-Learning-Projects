{
 "cells": [
  {
   "cell_type": "code",
   "execution_count": null,
   "metadata": {},
   "outputs": [],
   "source": [
    "#HW4A"
   ]
  },
  {
   "cell_type": "code",
   "execution_count": null,
   "metadata": {},
   "outputs": [],
   "source": [
    "import pandas as pd\n",
    "from sklearn.metrics import accuracy_score\n",
    "from sklearn.metrics import confusion_matrix\n",
    "from sklearn.neural_network import MLPClassifier\n",
    "from scipy.stats import multivariate_normal\n",
    "import matplotlib.pyplot as plt\n",
    "import numpy as np\n",
    "import math\n",
    "import random\n",
    "import seaborn as sns"
   ]
  },
  {
   "cell_type": "code",
   "execution_count": null,
   "metadata": {},
   "outputs": [],
   "source": [
    "\"\"\"\n",
    "Let’s look at the MNIST database of handwritten digits. The data are two sets of \n",
    "60,000 images (28x28 pixel handwritten digits, encoded as 8-bit greyscale images \n",
    "/ 1x784 element vectors.)\n",
    "\n",
    "To get started, you will need to flatten the images into 1-dimensional vectors \n",
    "and put the class labels into one-hot encoding.\n",
    "\"\"\""
   ]
  },
  {
   "cell_type": "code",
   "execution_count": null,
   "metadata": {},
   "outputs": [],
   "source": [
    "\"\"\"\n",
    "1. Train a neural network with 1 hidden layers on the MNIST training images. \n",
    "Report the confusion matrix on the test set.\n",
    "\"\"\""
   ]
  },
  {
   "cell_type": "code",
   "execution_count": null,
   "metadata": {},
   "outputs": [],
   "source": [
    "\"\"\"\n",
    "2. Train a neural network with more than 1 hidden layer on the MNIST training \n",
    "images. Report the confusion matrix on the test set.\n",
    "\"\"\""
   ]
  },
  {
   "cell_type": "code",
   "execution_count": null,
   "metadata": {},
   "outputs": [],
   "source": [
    "\"\"\"\n",
    "3. Compare the accuracy of the 0-layer, 1-layer, and 2-layer neural networks in \n",
    "a table.\n",
    "\"\"\""
   ]
  },
  {
   "cell_type": "code",
   "execution_count": null,
   "metadata": {},
   "outputs": [],
   "source": [
    "\"\"\"\n",
    "4. Some pairs of digits are more easily confused than others. Choose at least \n",
    "three cells in the confusion matrix and display at least three images of digits \n",
    "that were confused in particular ways, say, 5 is misclassified as 3. Which digit \n",
    "pair is hardest to discern?\n",
    "\"\"\""
   ]
  },
  {
   "cell_type": "code",
   "execution_count": null,
   "metadata": {},
   "outputs": [],
   "source": [
    "\"\"\"\n",
    "5. The first layer of the model can be interpreted as weights-per-pixel; it can \n",
    "be interpreted as a linear inner product filter on the input. Take a handful \n",
    "(perhaps 9 or 16) columns from the first-layer weights and display them as \n",
    "images. Are the input weights for the 4-layer model qualitatively different from \n",
    "the input weights for the 1-layer model? Hint: This is an example from the \n",
    "sklearn documentation:\n",
    "https://scikit-learn.org/stable/auto examples/neural networks/ plot mnist filters.html\n",
    "\"\"\""
   ]
  }
 ],
 "metadata": {
  "kernelspec": {
   "display_name": "Python 3.8.10 64-bit",
   "language": "python",
   "name": "python3"
  },
  "language_info": {
   "codemirror_mode": {
    "name": "ipython",
    "version": 3
   },
   "file_extension": ".py",
   "mimetype": "text/x-python",
   "name": "python",
   "nbconvert_exporter": "python",
   "pygments_lexer": "ipython3",
   "version": "3.8.10"
  },
  "orig_nbformat": 4,
  "vscode": {
   "interpreter": {
    "hash": "31f2aee4e71d21fbe5cf8b01ff0e069b9275f58929596ceb00d14d90e3e16cd6"
   }
  }
 },
 "nbformat": 4,
 "nbformat_minor": 2
}
