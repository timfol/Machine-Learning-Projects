{
 "cells": [
  {
   "cell_type": "code",
   "execution_count": null,
   "metadata": {},
   "outputs": [],
   "source": [
    "#HW 3A"
   ]
  },
  {
   "cell_type": "code",
   "execution_count": 93,
   "metadata": {},
   "outputs": [],
   "source": [
    "import numpy as np\n",
    "import pandas as pd\n",
    "import random"
   ]
  },
  {
   "cell_type": "code",
   "execution_count": null,
   "metadata": {},
   "outputs": [],
   "source": [
    "\"\"\"\n",
    "The UCI “Default of Credit Card Clients” data set contains various fields\n",
    "describing 30,000 credit card customers in Taiwan in 2005 (Yeh & Lien, doi://10.1016/j.eswa.2007.12.020).\n",
    "\"\"\""
   ]
  },
  {
   "cell_type": "code",
   "execution_count": 9,
   "metadata": {},
   "outputs": [],
   "source": [
    "#Download the data and put it in a pandas dataframe\n",
    "from sklearn.model_selection import train_test_split"
   ]
  },
  {
   "cell_type": "code",
   "execution_count": 6,
   "metadata": {},
   "outputs": [
    {
     "name": "stdout",
     "output_type": "stream",
     "text": [
      "Collecting xlrd\n",
      "  Downloading xlrd-2.0.1-py2.py3-none-any.whl (96 kB)\n",
      "\u001b[2K     \u001b[90m━━━━━━━━━━━━━━━━━━━━━━━━━━━━━━━━━━━━━━━━\u001b[0m \u001b[32m96.5/96.5 kB\u001b[0m \u001b[31m2.6 MB/s\u001b[0m eta \u001b[36m0:00:00\u001b[0m\n",
      "\u001b[?25hInstalling collected packages: xlrd\n",
      "Successfully installed xlrd-2.0.1\n",
      "Note: you may need to restart the kernel to use updated packages.\n"
     ]
    }
   ],
   "source": [
    "%pip install xlrd"
   ]
  },
  {
   "cell_type": "code",
   "execution_count": 108,
   "metadata": {},
   "outputs": [],
   "source": [
    "df = pd.read_excel(\"default.xls\")"
   ]
  },
  {
   "cell_type": "code",
   "execution_count": null,
   "metadata": {},
   "outputs": [],
   "source": [
    "\"\"\"\n",
    "1: Split the data set 50/50 into a training set and test set.\n",
    "\"\"\""
   ]
  },
  {
   "cell_type": "code",
   "execution_count": 47,
   "metadata": {},
   "outputs": [],
   "source": [
    "#Use the sklearn train test fxn to split evenly"
   ]
  },
  {
   "cell_type": "code",
   "execution_count": 109,
   "metadata": {},
   "outputs": [],
   "source": [
    "df.dropna()\n",
    "df.columns = df.iloc[0]\n",
    "df.drop(index = df.index[0], axis = 0, inplace = True)"
   ]
  },
  {
   "cell_type": "code",
   "execution_count": 110,
   "metadata": {},
   "outputs": [],
   "source": [
    "Y = df[\"default payment next month\"]\n",
    "X = df[[\"LIMIT_BAL\", \"SEX\", \"EDUCATION\", \"MARRIAGE\", \"AGE\", \"PAY_0\", \"PAY_2\", \"PAY_3\", \"PAY_4\", \"PAY_5\", \"PAY_6\", \"BILL_AMT1\", \"BILL_AMT2\", \"BILL_AMT3\", \"BILL_AMT4\", \"BILL_AMT5\", \"BILL_AMT6\", \"PAY_AMT1\", \"PAY_AMT2\", \"PAY_AMT3\", \"PAY_AMT4\", \"PAY_AMT5\", \"PAY_AMT6\"]]"
   ]
  },
  {
   "cell_type": "code",
   "execution_count": 111,
   "metadata": {},
   "outputs": [],
   "source": [
    "X_train, X_test, y_train, y_test = train_test_split(X,Y,random_state=random.randint(0,1000),test_size=.5,shuffle=True)"
   ]
  },
  {
   "cell_type": "code",
   "execution_count": 138,
   "metadata": {},
   "outputs": [
    {
     "name": "stdout",
     "output_type": "stream",
     "text": [
      "LIMIT_BAL:\n",
      "[[11723     0]\n",
      " [ 3277     0]]\n",
      "Unbalanced Score: 0.7815333333333333\n",
      "Balanced Score: 0.5\n",
      "\n",
      "SEX:\n",
      "[[11723     0]\n",
      " [ 3277     0]]\n",
      "Unbalanced Score: 0.7815333333333333\n",
      "Balanced Score: 0.5\n",
      "\n",
      "EDUCATION:\n",
      "[[11723     0]\n",
      " [ 3277     0]]\n",
      "Unbalanced Score: 0.7815333333333333\n",
      "Balanced Score: 0.5\n",
      "\n",
      "MARRIAGE:\n",
      "[[11723     0]\n",
      " [ 3277     0]]\n",
      "Unbalanced Score: 0.7815333333333333\n",
      "Balanced Score: 0.5\n",
      "\n",
      "AGE:\n",
      "[[11723     0]\n",
      " [ 3277     0]]\n",
      "Unbalanced Score: 0.7815333333333333\n",
      "Balanced Score: 0.5\n",
      "\n",
      "BILL_AMT1:\n",
      "[[11723     0]\n",
      " [ 3277     0]]\n",
      "Unbalanced Score: 0.7815333333333333\n",
      "Balanced Score: 0.5\n",
      "\n",
      "BILL_AMT2:\n",
      "[[11446   277]\n",
      " [ 3207    70]]\n",
      "Unbalanced Score: 0.7677333333333334\n",
      "Balanced Score: 0.49886611847360196\n",
      "\n",
      "BILL_AMT3:\n",
      "[[11472   251]\n",
      " [ 3202    75]]\n",
      "Unbalanced Score: 0.7698\n",
      "Balanced Score: 0.5007379425244058\n",
      "\n",
      "BILL_AMT4:\n",
      "[[11723     0]\n",
      " [ 3277     0]]\n",
      "Unbalanced Score: 0.7815333333333333\n",
      "Balanced Score: 0.5\n",
      "\n",
      "BILL_AMT5:\n",
      "[[11458   265]\n",
      " [ 3216    61]]\n",
      "Unbalanced Score: 0.7679333333333334\n",
      "Balanced Score: 0.49800472565387727\n",
      "\n",
      "PAY_AMT1:\n",
      "[[11723     0]\n",
      " [ 3277     0]]\n",
      "Unbalanced Score: 0.7815333333333333\n",
      "Balanced Score: 0.5\n",
      "\n",
      "PAY_AMT2:\n",
      "[[11723     0]\n",
      " [ 3277     0]]\n",
      "Unbalanced Score: 0.7815333333333333\n",
      "Balanced Score: 0.5\n",
      "\n",
      "PAY_AMT3:\n",
      "[[11723     0]\n",
      " [ 3277     0]]\n",
      "Unbalanced Score: 0.7815333333333333\n",
      "Balanced Score: 0.5\n",
      "\n",
      "PAY_AMT4:\n",
      "[[11723     0]\n",
      " [ 3277     0]]\n",
      "Unbalanced Score: 0.7815333333333333\n",
      "Balanced Score: 0.5\n",
      "\n",
      "PAY_AMT5:\n",
      "[[11723     0]\n",
      " [ 3277     0]]\n",
      "Unbalanced Score: 0.7815333333333333\n",
      "Balanced Score: 0.5\n",
      "\n"
     ]
    }
   ],
   "source": [
    "logs = [LogisticRegression().fit(\n",
    "    np.reshape(X_train.iloc[:, i].values, (-1,1)),y_train.tolist())for i in range(len(X_train.columns))]\n",
    "\n",
    "for i, log in enumerate(logs):\n",
    "  print(X.columns[i] + \":\")\n",
    "  y_pred = log.predict(np.reshape(X_test.iloc[:, i].values, (-1,1)))\n",
    "  print(metrics.confusion_matrix(y_test.tolist(), y_pred))\n",
    "  print(\"Unbalanced Score: \" + str(metrics.accuracy_score(y_test.tolist(), y_pred)))\n",
    "  print(\"Balanced Score: \" + str(metrics.balanced_accuracy_score(y_test.tolist(), y_pred)))\n",
    "  print()"
   ]
  },
  {
   "cell_type": "code",
   "execution_count": null,
   "metadata": {},
   "outputs": [],
   "source": [
    "#specific import statements"
   ]
  },
  {
   "cell_type": "code",
   "execution_count": null,
   "metadata": {},
   "outputs": [],
   "source": [
    "\"\"\"\n",
    "2: Logistic Regression\n",
    "\n",
    "(a) Create several logistic regression models to predict default.payment.next.month (at least 10).\n",
    "(b) Calculate the confusion matrices for each model based on the test set.\n",
    "(c) Present a summary of the five models that gave the best overall accuracy on the test set. Which variables did you include, and which ones mattered the most?\n",
    "\"\"\""
   ]
  },
  {
   "cell_type": "code",
   "execution_count": 97,
   "metadata": {},
   "outputs": [],
   "source": [
    "#specific import statements\n",
    "from sklearn.linear_model import LogisticRegression\n",
    "from sklearn import metrics"
   ]
  },
  {
   "cell_type": "code",
   "execution_count": 140,
   "metadata": {},
   "outputs": [
    {
     "name": "stdout",
     "output_type": "stream",
     "text": [
      "LIMIT_BAL:\n",
      "[[11723     0]\n",
      " [ 3277     0]]\n",
      "Unbalanced Score: 0.7815333333333333\n",
      "Balanced Score: 0.5\n",
      "\n",
      "SEX:\n",
      "[[11723     0]\n",
      " [ 3277     0]]\n",
      "Unbalanced Score: 0.7815333333333333\n",
      "Balanced Score: 0.5\n",
      "\n",
      "EDUCATION:\n",
      "[[11723     0]\n",
      " [ 3277     0]]\n",
      "Unbalanced Score: 0.7815333333333333\n",
      "Balanced Score: 0.5\n",
      "\n",
      "MARRIAGE:\n",
      "[[11723     0]\n",
      " [ 3277     0]]\n",
      "Unbalanced Score: 0.7815333333333333\n",
      "Balanced Score: 0.5\n",
      "\n",
      "AGE:\n",
      "[[11723     0]\n",
      " [ 3277     0]]\n",
      "Unbalanced Score: 0.7815333333333333\n",
      "Balanced Score: 0.5\n",
      "\n",
      "BILL_AMT1:\n",
      "[[11723     0]\n",
      " [ 3277     0]]\n",
      "Unbalanced Score: 0.7815333333333333\n",
      "Balanced Score: 0.5\n",
      "\n",
      "BILL_AMT2:\n",
      "[[11446   277]\n",
      " [ 3207    70]]\n",
      "Unbalanced Score: 0.7677333333333334\n",
      "Balanced Score: 0.49886611847360196\n",
      "\n",
      "BILL_AMT3:\n",
      "[[11472   251]\n",
      " [ 3202    75]]\n",
      "Unbalanced Score: 0.7698\n",
      "Balanced Score: 0.5007379425244058\n",
      "\n",
      "BILL_AMT4:\n",
      "[[11723     0]\n",
      " [ 3277     0]]\n",
      "Unbalanced Score: 0.7815333333333333\n",
      "Balanced Score: 0.5\n",
      "\n",
      "BILL_AMT5:\n",
      "[[11458   265]\n",
      " [ 3216    61]]\n",
      "Unbalanced Score: 0.7679333333333334\n",
      "Balanced Score: 0.49800472565387727\n",
      "\n",
      "PAY_AMT1:\n",
      "[[11723     0]\n",
      " [ 3277     0]]\n",
      "Unbalanced Score: 0.7815333333333333\n",
      "Balanced Score: 0.5\n",
      "\n",
      "PAY_AMT2:\n",
      "[[11723     0]\n",
      " [ 3277     0]]\n",
      "Unbalanced Score: 0.7815333333333333\n",
      "Balanced Score: 0.5\n",
      "\n",
      "PAY_AMT3:\n",
      "[[11723     0]\n",
      " [ 3277     0]]\n",
      "Unbalanced Score: 0.7815333333333333\n",
      "Balanced Score: 0.5\n",
      "\n",
      "PAY_AMT4:\n",
      "[[11723     0]\n",
      " [ 3277     0]]\n",
      "Unbalanced Score: 0.7815333333333333\n",
      "Balanced Score: 0.5\n",
      "\n",
      "PAY_AMT5:\n",
      "[[11723     0]\n",
      " [ 3277     0]]\n",
      "Unbalanced Score: 0.7815333333333333\n",
      "Balanced Score: 0.5\n",
      "\n"
     ]
    }
   ],
   "source": [
    "logs = [LogisticRegression().fit(\n",
    "    np.reshape(X_train.iloc[:, i].values, (-1,1)),\n",
    "    y_train.tolist())\n",
    "    for i in range(len(X_train.columns))]\n",
    "#log = LogisticRegression(max_iter = 1000).fit(X_train[], y_train)\n",
    "for i, log in enumerate(logs):\n",
    "  print(X.columns[i] + \":\")\n",
    "  y_pred = log.predict(np.reshape(X_test.iloc[:, i].values, (-1,1)))\n",
    "  print(metrics.confusion_matrix(y_test.tolist(), y_pred))\n",
    "  print(\"Unbalanced Score: \" + str(metrics.accuracy_score(y_test.tolist(), y_pred)))\n",
    "  print(\"Balanced Score: \" + str(metrics.balanced_accuracy_score(y_test.tolist(), y_pred)))\n",
    "  print()"
   ]
  },
  {
   "cell_type": "code",
   "execution_count": 143,
   "metadata": {},
   "outputs": [],
   "source": [
    "#now i tried iterating through two columns each to see if it was any better at predicting. It wasn't :("
   ]
  },
  {
   "cell_type": "code",
   "execution_count": 141,
   "metadata": {},
   "outputs": [],
   "source": [
    "logs = [LogisticRegression().fit(\n",
    "    np.reshape(X_train.iloc[:,i:i+1].values, (-1,1)),\n",
    "    y_train.tolist())\n",
    "    for i in range(len(X_train.columns))]\n",
    "#log = LogisticRegression(max_iter = 1000).fit(X_train[], y_train)\n"
   ]
  },
  {
   "cell_type": "code",
   "execution_count": 142,
   "metadata": {},
   "outputs": [
    {
     "name": "stdout",
     "output_type": "stream",
     "text": [
      "LIMIT_BAL:\n",
      "[[11723     0]\n",
      " [ 3277     0]]\n",
      "Unbalanced Score: 0.7815333333333333\n",
      "Balanced Score: 0.5\n",
      "\n",
      "SEX:\n",
      "[[11723     0]\n",
      " [ 3277     0]]\n",
      "Unbalanced Score: 0.7815333333333333\n",
      "Balanced Score: 0.5\n",
      "\n",
      "EDUCATION:\n",
      "[[11723     0]\n",
      " [ 3277     0]]\n",
      "Unbalanced Score: 0.7815333333333333\n",
      "Balanced Score: 0.5\n",
      "\n",
      "MARRIAGE:\n",
      "[[11723     0]\n",
      " [ 3277     0]]\n",
      "Unbalanced Score: 0.7815333333333333\n",
      "Balanced Score: 0.5\n",
      "\n",
      "AGE:\n",
      "[[11723     0]\n",
      " [ 3277     0]]\n",
      "Unbalanced Score: 0.7815333333333333\n",
      "Balanced Score: 0.5\n",
      "\n",
      "BILL_AMT1:\n",
      "[[11723     0]\n",
      " [ 3277     0]]\n",
      "Unbalanced Score: 0.7815333333333333\n",
      "Balanced Score: 0.5\n",
      "\n",
      "BILL_AMT2:\n",
      "[[11446   277]\n",
      " [ 3207    70]]\n",
      "Unbalanced Score: 0.7677333333333334\n",
      "Balanced Score: 0.49886611847360196\n",
      "\n",
      "BILL_AMT3:\n",
      "[[11472   251]\n",
      " [ 3202    75]]\n",
      "Unbalanced Score: 0.7698\n",
      "Balanced Score: 0.5007379425244058\n",
      "\n",
      "BILL_AMT4:\n",
      "[[11723     0]\n",
      " [ 3277     0]]\n",
      "Unbalanced Score: 0.7815333333333333\n",
      "Balanced Score: 0.5\n",
      "\n",
      "BILL_AMT5:\n",
      "[[11458   265]\n",
      " [ 3216    61]]\n",
      "Unbalanced Score: 0.7679333333333334\n",
      "Balanced Score: 0.49800472565387727\n",
      "\n",
      "PAY_AMT1:\n",
      "[[11723     0]\n",
      " [ 3277     0]]\n",
      "Unbalanced Score: 0.7815333333333333\n",
      "Balanced Score: 0.5\n",
      "\n",
      "PAY_AMT2:\n",
      "[[11723     0]\n",
      " [ 3277     0]]\n",
      "Unbalanced Score: 0.7815333333333333\n",
      "Balanced Score: 0.5\n",
      "\n",
      "PAY_AMT3:\n",
      "[[11723     0]\n",
      " [ 3277     0]]\n",
      "Unbalanced Score: 0.7815333333333333\n",
      "Balanced Score: 0.5\n",
      "\n",
      "PAY_AMT4:\n",
      "[[11723     0]\n",
      " [ 3277     0]]\n",
      "Unbalanced Score: 0.7815333333333333\n",
      "Balanced Score: 0.5\n",
      "\n",
      "PAY_AMT5:\n",
      "[[11723     0]\n",
      " [ 3277     0]]\n",
      "Unbalanced Score: 0.7815333333333333\n",
      "Balanced Score: 0.5\n",
      "\n"
     ]
    }
   ],
   "source": [
    "for i, log in enumerate(logs):\n",
    "  print(X.columns[i] + \":\")\n",
    "  y_pred = log.predict(np.reshape(X_test.iloc[:, i:i+1].values, (-1,1)))\n",
    "  print(metrics.confusion_matrix(y_test.tolist(), y_pred))\n",
    "  print(\"Unbalanced Score: \" + str(metrics.accuracy_score(y_test.tolist(), y_pred)))\n",
    "  print(\"Balanced Score: \" + str(metrics.balanced_accuracy_score(y_test.tolist(), y_pred)))\n",
    "  print()"
   ]
  },
  {
   "cell_type": "code",
   "execution_count": null,
   "metadata": {},
   "outputs": [],
   "source": [
    "\"\"\"\n",
    "3: Discriminant Analysis\n",
    "\n",
    "(a) Predict default.payment.next.month using linear discriminant analysis. Calculate the confusion matrix on the test set.\n",
    "(b) Predict default.payment.next.month using quadratic discriminant analysis. Calculate the confusion matrix on the test set.\n",
    "\"\"\""
   ]
  },
  {
   "cell_type": "code",
   "execution_count": 120,
   "metadata": {},
   "outputs": [],
   "source": [
    "#specific import statements\n",
    "from sklearn.discriminant_analysis import LinearDiscriminantAnalysis\n",
    "from sklearn.discriminant_analysis import QuadraticDiscriminantAnalysis"
   ]
  },
  {
   "cell_type": "code",
   "execution_count": 121,
   "metadata": {},
   "outputs": [],
   "source": [
    "LDA = LinearDiscriminantAnalysis()\n",
    "QDA = QuadraticDiscriminantAnalysis()"
   ]
  },
  {
   "cell_type": "code",
   "execution_count": 129,
   "metadata": {},
   "outputs": [
    {
     "name": "stdout",
     "output_type": "stream",
     "text": [
      "[[11723     0]\n",
      " [ 3277     0]]\n",
      "Unbalanced Score: 0.7815333333333333\n",
      "Balanced Score: 0.5\n",
      "[[11723     0]\n",
      " [ 3277     0]]\n"
     ]
    }
   ],
   "source": [
    "linD = LDA.fit(X_train, y_train.to_list())\n",
    "y_lin = LDA.predict(X_test)\n",
    "print(metrics.confusion_matrix(y_test.tolist(), y_lin))\n",
    "print(\"Unbalanced Score: \" + str(metrics.accuracy_score(y_test.tolist(), y_lin)))\n",
    "print(\"Balanced Score: \" + str(metrics.balanced_accuracy_score(y_test.tolist(), y_lin)))\n"
   ]
  },
  {
   "cell_type": "code",
   "execution_count": 128,
   "metadata": {},
   "outputs": [
    {
     "name": "stdout",
     "output_type": "stream",
     "text": [
      "[[2600 9123]\n",
      " [ 366 2911]]\n",
      "Unbalanced Score: 0.3674\n",
      "Balanced Score: 0.5550493565604012\n",
      "\n"
     ]
    }
   ],
   "source": [
    "quadD = QDA.fit(X_train, y_train.to_list())\n",
    "y_quad = QDA.predict(X_test)\n",
    "print(metrics.confusion_matrix(y_test.tolist(), y_quad))\n",
    "print(\"Unbalanced Score: \" + str(metrics.accuracy_score(y_test.tolist(), y_quad)))\n",
    "print(\"Balanced Score: \" + str(metrics.balanced_accuracy_score(y_test.tolist(), y_quad)))\n",
    "print()"
   ]
  },
  {
   "cell_type": "code",
   "execution_count": null,
   "metadata": {},
   "outputs": [],
   "source": [
    "\"\"\"\n",
    "4: KNN Classifiers\n",
    "(a) Create four different KNN classifiers to predict default.payment.next.month with four different values of k. \n",
    "    You will have to choose how to measure distance in a vector space that includes indicator variables and payment amounts ($NT 100k).\n",
    "(b) Calculate the confusion matrices for each classifier based on the test set.\n",
    "\n",
    "\"\"\""
   ]
  },
  {
   "cell_type": "code",
   "execution_count": 130,
   "metadata": {},
   "outputs": [],
   "source": [
    "#specific import statements\n",
    "from sklearn.neighbors import KNeighborsClassifier"
   ]
  },
  {
   "cell_type": "code",
   "execution_count": 136,
   "metadata": {},
   "outputs": [
    {
     "name": "stdout",
     "output_type": "stream",
     "text": [
      "Neighbors: 1\n",
      "[[9440 2283]\n",
      " [2270 1007]]\n",
      "Unbalanced Score: 0.6964666666666667\n",
      "Balanced Score: 0.5562739418409455\n",
      "Neighbors: 2\n",
      "[[11135   588]\n",
      " [ 2910   367]]\n",
      "Unbalanced Score: 0.7668\n",
      "Balanced Score: 0.5309174333969062\n",
      "Neighbors: 3\n",
      "[[10294  1429]\n",
      " [ 2559   718]]\n",
      "Unbalanced Score: 0.7341333333333333\n",
      "Balanced Score: 0.5486028563261646\n",
      "Neighbors: 4\n",
      "[[11172   551]\n",
      " [ 2915   362]]\n",
      "Unbalanced Score: 0.7689333333333334\n",
      "Balanced Score: 0.531732634851519\n",
      "Neighbors: 5\n",
      "[[10688  1035]\n",
      " [ 2694   583]]\n",
      "Unbalanced Score: 0.7514\n",
      "Balanced Score: 0.5448093205090103\n",
      "Neighbors: 6\n",
      "[[11283   440]\n",
      " [ 2954   323]]\n",
      "Unbalanced Score: 0.7737333333333334\n",
      "Balanced Score: 0.5305163533441338\n",
      "Neighbors: 7\n",
      "[[10907   816]\n",
      " [ 2768   509]]\n",
      "Unbalanced Score: 0.7610666666666667\n",
      "Balanced Score: 0.5428591182106144\n",
      "Neighbors: 8\n",
      "[[11304   419]\n",
      " [ 2973   304]]\n",
      "Unbalanced Score: 0.7738666666666667\n",
      "Balanced Score: 0.5285130355312206\n",
      "Neighbors: 9\n",
      "[[11073   650]\n",
      " [ 2827   450]]\n",
      "Unbalanced Score: 0.7682\n",
      "Balanced Score: 0.5409370810613034\n"
     ]
    }
   ],
   "source": [
    "for i in range(1,10):\n",
    "    print(\"Neighbors: \" + str(i))\n",
    "    KNN = KNeighborsClassifier(n_neighbors=i)\n",
    "    k = KNN.fit(X_train, y_train.to_list())\n",
    "    y_knn = KNN.predict(X_test)\n",
    "    print(metrics.confusion_matrix(y_test.tolist(), y_knn))\n",
    "    print(\"Unbalanced Score: \" + str(metrics.accuracy_score(y_test.tolist(), y_knn)))\n",
    "    print(\"Balanced Score: \" + str(metrics.balanced_accuracy_score(y_test.tolist(), y_knn)))"
   ]
  },
  {
   "cell_type": "code",
   "execution_count": null,
   "metadata": {},
   "outputs": [],
   "source": [
    "\"\"\"\n",
    "5: Which of these classifiers would you recommend? You may make your recommendation based on any accuracy metric (not ncessarily the best overall accuracy).\n",
    "\"\"\""
   ]
  },
  {
   "cell_type": "code",
   "execution_count": null,
   "metadata": {},
   "outputs": [],
   "source": [
    "\"\"\"\n",
    "I would recommend KNN since it gave the highest balanced score.\n",
    "\n",
    "\"\"\""
   ]
  }
 ],
 "metadata": {
  "kernelspec": {
   "display_name": "Python 3.10.5 64-bit",
   "language": "python",
   "name": "python3"
  },
  "language_info": {
   "codemirror_mode": {
    "name": "ipython",
    "version": 3
   },
   "file_extension": ".py",
   "mimetype": "text/x-python",
   "name": "python",
   "nbconvert_exporter": "python",
   "pygments_lexer": "ipython3",
   "version": "3.10.5"
  },
  "orig_nbformat": 4,
  "vscode": {
   "interpreter": {
    "hash": "aee8b7b246df8f9039afb4144a1f6fd8d2ca17a180786b69acc140d282b71a49"
   }
  }
 },
 "nbformat": 4,
 "nbformat_minor": 2
}
