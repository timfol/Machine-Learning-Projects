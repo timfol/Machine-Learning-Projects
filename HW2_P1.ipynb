{
 "cells": [
  {
   "cell_type": "code",
   "execution_count": 8,
   "metadata": {},
   "outputs": [],
   "source": [
    "import pandas as pd\n",
    "import matplotlib.pyplot as plt\n",
    "import math\n",
    "import requests\n",
    "import json\n",
    "import numpy as np"
   ]
  },
  {
   "cell_type": "code",
   "execution_count": 2,
   "metadata": {},
   "outputs": [],
   "source": [
    "messageDF = pd.read_csv(\"spam.csv\")"
   ]
  },
  {
   "cell_type": "code",
   "execution_count": 3,
   "metadata": {},
   "outputs": [
    {
     "name": "stdout",
     "output_type": "stream",
     "text": [
      "        v1                                                 v2 Unnamed: 2  \\\n",
      "0      ham  Go until jurong point, crazy.. Available only ...        NaN   \n",
      "1      ham                      Ok lar... Joking wif u oni...        NaN   \n",
      "2     spam  Free entry in 2 a wkly comp to win FA Cup fina...        NaN   \n",
      "3      ham  U dun say so early hor... U c already then say...        NaN   \n",
      "4      ham  Nah I don't think he goes to usf, he lives aro...        NaN   \n",
      "...    ...                                                ...        ...   \n",
      "5567  spam  This is the 2nd time we have tried 2 contact u...        NaN   \n",
      "5568   ham              Will �_ b going to esplanade fr home?        NaN   \n",
      "5569   ham  Pity, * was in mood for that. So...any other s...        NaN   \n",
      "5570   ham  The guy did some bitching but I acted like i'd...        NaN   \n",
      "5571   ham                         Rofl. Its true to its name        NaN   \n",
      "\n",
      "     Unnamed: 3 Unnamed: 4  \n",
      "0           NaN        NaN  \n",
      "1           NaN        NaN  \n",
      "2           NaN        NaN  \n",
      "3           NaN        NaN  \n",
      "4           NaN        NaN  \n",
      "...         ...        ...  \n",
      "5567        NaN        NaN  \n",
      "5568        NaN        NaN  \n",
      "5569        NaN        NaN  \n",
      "5570        NaN        NaN  \n",
      "5571        NaN        NaN  \n",
      "\n",
      "[5572 rows x 5 columns]\n"
     ]
    }
   ],
   "source": [
    "print(messageDF)"
   ]
  },
  {
   "cell_type": "code",
   "execution_count": 3,
   "metadata": {},
   "outputs": [],
   "source": [
    "data = {}"
   ]
  },
  {
   "cell_type": "code",
   "execution_count": 4,
   "metadata": {},
   "outputs": [],
   "source": [
    "\n",
    "#listMessages['type'].append(messageDF['v1'])\n",
    "\n",
    "for ind in messageDF.index:\n",
    "    for word in messageDF['v2'][ind].replace(\",\", \"\").replace(\".\", \"\") .split(\" \"):\n",
    "        if word not in data:\n",
    "            if messageDF['v1'][ind] == \"spam\":\n",
    "                data[word] = [1,0]\n",
    "            else:\n",
    "               data[word] = [0,1]\n",
    "        else:\n",
    "            if messageDF['v1'][ind] == \"spam\":\n",
    "                data[word][0] += 1\n",
    "            else:\n",
    "                data[word][1] += 1\n",
    "            \n",
    "\n"
   ]
  },
  {
   "cell_type": "code",
   "execution_count": 5,
   "metadata": {},
   "outputs": [],
   "source": [
    "spamOrHam = {}\n",
    "\n",
    "for word in data:\n",
    "    if data[word][0] == 0:\n",
    "        spamOrHam[word] = 1/20\n",
    "    elif data[word][1] == 0:\n",
    "        spamOrHam[word] = 20\n",
    "    elif (data[word][0])/(data[word][1]) < 1/20:\n",
    "        spamOrHam[word] = 1/20\n",
    "    elif (data[word][0])/(data[word][1]) > 20:\n",
    "        spamOrHam[word] = 20/1\n",
    "    else:\n",
    "        spamOrHam[word] = data[word][0]/data[word][1]"
   ]
  },
  {
   "cell_type": "code",
   "execution_count": null,
   "metadata": {},
   "outputs": [],
   "source": [
    "# Part A"
   ]
  },
  {
   "cell_type": "code",
   "execution_count": 42,
   "metadata": {},
   "outputs": [],
   "source": [
    "\n",
    "americancorpus = pd.read_csv(\"wayback.txt\", sep=\"\\t\")"
   ]
  },
  {
   "cell_type": "code",
   "execution_count": 43,
   "metadata": {},
   "outputs": [
    {
     "name": "stdout",
     "output_type": "stream",
     "text": [
      "      class  subscriber                                       message_body  \\\n",
      "0         0           1  Hey sir I have a question on software I am doi...   \n",
      "1         0           1  s the same guys name as the first but it will ...   \n",
      "2         0           1       thing that I have to do to allow me to do it   \n",
      "3         0           1  The identity field must be unique, but you can...   \n",
      "4         0           1                                     Ok thank u sir   \n",
      "...     ...         ...                                                ...   \n",
      "4929      0         156                                          of course   \n",
      "4930      0         148                                            I heard   \n",
      "4931      0         154                                            Oh well   \n",
      "4932      0         156                                           cu in 20   \n",
      "4933      1         156                                 thx for the tecate   \n",
      "\n",
      "         timestamp      type  \n",
      "0     4/4/11 14:40  Incoming  \n",
      "1     4/4/11 14:40  Incoming  \n",
      "2     4/4/11 14:40  Incoming  \n",
      "3     4/4/11 14:41  Outgoing  \n",
      "4     4/4/11 14:42  Incoming  \n",
      "...            ...       ...  \n",
      "4929  4/3/12 15:51  Outgoing  \n",
      "4930  4/3/12 19:03  Incoming  \n",
      "4931  4/3/12 19:03  Incoming  \n",
      "4932  4/3/12 19:03  Outgoing  \n",
      "4933  4/3/12 19:03  Incoming  \n",
      "\n",
      "[4934 rows x 5 columns]\n"
     ]
    }
   ],
   "source": [
    "print(americancorpus)"
   ]
  },
  {
   "cell_type": "code",
   "execution_count": null,
   "metadata": {},
   "outputs": [],
   "source": [
    "#Part B"
   ]
  },
  {
   "cell_type": "code",
   "execution_count": 44,
   "metadata": {},
   "outputs": [],
   "source": [
    "logOdds = {}\n",
    "for word in spamOrHam:\n",
    "    logOdds[word] = math.log(spamOrHam[word])"
   ]
  },
  {
   "cell_type": "code",
   "execution_count": 47,
   "metadata": {},
   "outputs": [
    {
     "data": {
      "image/png": "[encoded data removed]",
      "text/plain": [
       "<Figure size 432x288 with 1 Axes>"
      ]
     },
     "metadata": {
      "needs_background": "light"
     },
     "output_type": "display_data"
    },
    {
     "data": {
      "image/png": "[encoded data removed]",
      "text/plain": [
       "<Figure size 432x288 with 1 Axes>"
      ]
     },
     "metadata": {
      "needs_background": "light"
     },
     "output_type": "display_data"
    }
   ],
   "source": [
    "listOddsI = []\n",
    "listOddsO = []\n",
    "\n",
    "for ind in americancorpus.index:\n",
    "    totalIP = 0\n",
    "    totalOP = 0\n",
    "    if americancorpus['type'][ind] == \"Incoming\":\n",
    "        for word in americancorpus['message_body'][ind].replace(\",\", \"\").replace(\".\", \"\") .split(\" \"):\n",
    "            if word in logOdds:\n",
    "                totalIP += logOdds[word]\n",
    "        listOddsI.append(totalIP)\n",
    "    else:\n",
    "        for word in americancorpus['message_body'][ind].replace(\",\", \"\").replace(\".\", \"\") .split(\" \"):\n",
    "            if word in logOdds:\n",
    "                totalOP += logOdds[word]\n",
    "        listOddsO.append(totalOP)\n",
    "plt.title('Incoming')\n",
    "plt.hist(listOddsI, bins=20, )\n",
    "plt.show()\n",
    "plt.title('Outgoing')\n",
    "plt.hist(listOddsO, bins=20)\n",
    "plt.show()"
   ]
  },
  {
   "cell_type": "code",
   "execution_count": 48,
   "metadata": {},
   "outputs": [
    {
     "data": {
      "image/png": "[encoded data removed]",
      "text/plain": [
       "<Figure size 432x288 with 1 Axes>"
      ]
     },
     "metadata": {
      "needs_background": "light"
     },
     "output_type": "display_data"
    }
   ],
   "source": [
    "listOdds = []\n",
    "\n",
    "for ind in messageDF.index:\n",
    "    totalP = 0\n",
    "    for word in messageDF['v2'][ind].replace(\",\", \"\").replace(\".\", \"\") .split(\" \"):\n",
    "        if word in logOdds:\n",
    "            totalP += logOdds[word]\n",
    "    listOdds.append(totalP)\n",
    "\n",
    "plt.title(\"Test Data\")\n",
    "plt.hist(listOdds, bins=20)\n",
    "plt.show()"
   ]
  }
 ],
 "metadata": {
  "kernelspec": {
   "display_name": "Python 3.9.12 ('base')",
   "language": "python",
   "name": "python3"
  },
  "language_info": {
   "codemirror_mode": {
    "name": "ipython",
    "version": 3
   },
   "file_extension": ".py",
   "mimetype": "text/x-python",
   "name": "python",
   "nbconvert_exporter": "python",
   "pygments_lexer": "ipython3",
   "version": "3.9.12"
  },
  "orig_nbformat": 4,
  "vscode": {
   "interpreter": {
    "hash": "84891ed1b5dc412ae5440780feec5f4772a8f4e21c890af27d2bc3fa4e24d8dc"
   }
  }
 },
 "nbformat": 4,
 "nbformat_minor": 2
}
